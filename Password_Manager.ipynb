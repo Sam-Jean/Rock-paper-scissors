{
  "nbformat": 4,
  "nbformat_minor": 0,
  "metadata": {
    "colab": {
      "provenance": [],
      "toc_visible": true,
      "authorship_tag": "ABX9TyPtDU7hUp/k9vf690vys8Yg",
      "include_colab_link": true
    },
    "kernelspec": {
      "name": "python3",
      "display_name": "Python 3"
    },
    "language_info": {
      "name": "python"
    }
  },
  "cells": [
    {
      "cell_type": "markdown",
      "metadata": {
        "id": "view-in-github",
        "colab_type": "text"
      },
      "source": [
        "<a href=\"https://colab.research.google.com/github/Sam-Jean/Rock-paper-scissors/blob/main/Password_Manager.ipynb\" target=\"_parent\"><img src=\"https://colab.research.google.com/assets/colab-badge.svg\" alt=\"Open In Colab\"/></a>"
      ]
    },
    {
      "cell_type": "code",
      "execution_count": 24,
      "metadata": {
        "id": "fDMZSJAQApsA",
        "colab": {
          "base_uri": "https://localhost:8080/"
        },
        "outputId": "5d54725e-921f-4ba1-a650-d2f871c1ff23"
      },
      "outputs": [
        {
          "output_type": "stream",
          "name": "stdout",
          "text": [
            "press 1 to create new username\n",
            "press 2 to view a username\n",
            "press 3 to quit\n",
            "press 1,2 or 31\n",
            "please enter a username or press q to quitHappy\n",
            "please enter a passwordHhhag\n",
            "the username field has data\n",
            "the password field has data\n",
            "{'Happy': 'Hhhag'}\n",
            "please enter a username or press q to quitq\n",
            "which username would you like to see or press q to quitHappy\n",
            "Hhhag\n"
          ]
        }
      ],
      "source": [
        "import sys\n",
        "\n",
        "print(\"press 1 to create new username\")\n",
        "print(\"press 2 to view a username\")\n",
        "print(\"press 3 to quit\")\n",
        "userinput = input(\"press 1,2 or 3\")\n",
        "\n",
        "usernames = {}\n",
        "if userinput == \"3\":\n",
        "  sys.exit()\n",
        "\n",
        "if userinput == \"1\":\n",
        "  while True:\n",
        "    username = input(\"please enter a username or press q to quit\")\n",
        "    if username == \"q\":\n",
        "      break\n",
        "    password = input(\"please enter a password\")\n",
        "\n",
        "\n",
        "\n",
        "    if username:\n",
        "        print(\"the username field has data\")\n",
        "    else:\n",
        "         username = input(\"please enter a username\")\n",
        "\n",
        "    if password:\n",
        "        print(\"the password field has data\")\n",
        "    else:\n",
        "        password = input(\"please enter a password\")\n",
        "\n",
        "  usernames[username] = password\n",
        "  print(usernames)\n",
        "\n",
        "\n",
        "username_find = input(\"which username would you like to see or press q to quit\")\n",
        "print(usernames[username_find])\n",
        "\n",
        "\n",
        "\n"
      ]
    }
  ]
}